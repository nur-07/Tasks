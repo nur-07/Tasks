{
  "metadata": {
    "kernelspec": {
      "name": "python",
      "display_name": "Pyolite",
      "language": "python"
    },
    "language_info": {
      "codemirror_mode": {
        "name": "python",
        "version": 3
      },
      "file_extension": ".py",
      "mimetype": "text/x-python",
      "name": "python",
      "nbconvert_exporter": "python",
      "pygments_lexer": "ipython3",
      "version": "3.8"
    }
  },
  "nbformat_minor": 4,
  "nbformat": 4,
  "cells": [
    {
      "cell_type": "markdown",
      "source": "<center>\n    <img src=\"https://s3-api.us-geo.objectstorage.softlayer.net/cf-courses-data/CognitiveClass/Logos/organization_logo/organization_logo.png\" width=\"300\" alt=\"cognitiveclass.ai logo\"  />\n</center>",
      "metadata": {}
    },
    {
      "cell_type": "markdown",
      "source": "#### Add your code below following the instructions given in the course\n",
      "metadata": {}
    },
    {
      "cell_type": "markdown",
      "source": "# My Jupyter Notebook on IBM Watson Studio",
      "metadata": {
        "tags": []
      }
    },
    {
      "cell_type": "markdown",
      "source": "**Nur Annisa**\n\nData Science",
      "metadata": {}
    },
    {
      "cell_type": "markdown",
      "source": "*I am interested in data science because by studying data science, I will prepare myself against future technology trends and become the priority needs of many organizations and companies*",
      "metadata": {}
    },
    {
      "cell_type": "markdown",
      "source": "### My code is supposed to run the fibonacci sequence",
      "metadata": {}
    },
    {
      "cell_type": "code",
      "source": "i = 0\nj = 1\nn = int \nwhile(j<20):\n    print(j)\n    n = i\n    i = j\n    j = j + n",
      "metadata": {
        "trusted": true
      },
      "execution_count": 25,
      "outputs": [
        {
          "name": "stdout",
          "text": "1\n1\n2\n3\n5\n8\n13\n",
          "output_type": "stream"
        }
      ]
    },
    {
      "cell_type": "markdown",
      "source": "| Beni | Rani | Niko |\n| ------ | ------ | ------ |\n| Book 1 | Book 5 | Book 9 |\n| Book 2 | Book 6 | Book 10 |\n| Book 3 | Book 7 | Book 11 |\n| Book 4 | Book 8 | Book 12 |\n\n+ Title\n+ discussion\n+ conclusion\n\n# 1.1 cake 1\n## 1.2 shirt 2\n## 1.3 pants 3",
      "metadata": {}
    },
    {
      "cell_type": "code",
      "source": "",
      "metadata": {},
      "execution_count": null,
      "outputs": []
    }
  ]
}